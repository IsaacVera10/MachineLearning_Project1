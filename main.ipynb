{
 "cells": [
  {
   "cell_type": "code",
   "execution_count": 1,
   "metadata": {},
   "outputs": [],
   "source": [
    "from  skimage.io import imread, imshow\n",
    "import random\n",
    "import os\n",
    "import pywt\n",
    "import re\n",
    "import pywt.data\n",
    "from skimage.transform import resize  # Correct import statement\n",
    "import matplotlib.pyplot as plt\n",
    "import numpy as np\n",
    "# Import train_test_split function\n",
    "from sklearn.model_selection import train_test_split\n",
    "\n",
    "from sklearn import svm\n",
    "\n",
    "from sklearn.linear_model import LogisticRegression\n",
    "from sklearn.svm import SVC\n",
    "from sklearn.neighbors import KNeighborsClassifier\n",
    "from sklearn.tree import DecisionTreeClassifier\n",
    "from sklearn.metrics import accuracy_score\n",
    "\n",
    "from sklearn.model_selection import cross_val_score"
   ]
  },
  {
   "cell_type": "code",
   "execution_count": 2,
   "metadata": {},
   "outputs": [
    {
     "name": "stdout",
     "output_type": "stream",
     "text": [
      "Números de especie: [1, 1, 1, 1, 1, 1, 1, 1, 1, 1, 1, 1, 1, 1, 1, 1, 1, 1, 1, 1, 1, 1, 1, 1, 1, 1, 1, 1, 1, 1, 1, 1, 1, 1, 1, 1, 1, 1, 1, 1, 1, 1, 1, 1, 1, 1, 1, 1, 1, 1, 1, 1, 1, 1, 1, 1, 1, 1, 1, 1, 1, 1, 1, 1, 1, 1, 1, 1, 1, 1, 1, 1, 1, 1, 1, 1, 1, 1, 1, 1, 1, 1, 2, 2, 2, 2, 2, 2, 2, 2, 2, 2, 2, 2, 2, 2, 2, 2, 2, 2, 2, 2, 2, 2, 2, 2, 2, 2, 2, 2, 2, 2, 2, 2, 2, 2, 2, 2, 2, 2, 2, 2, 2, 2, 2, 2, 2, 2, 2, 2, 2, 2, 2, 2, 2, 2, 2, 2, 2, 2, 2, 2, 2, 2, 2, 2, 2, 2, 2, 2, 2, 2, 2, 2, 2, 2, 2, 2, 2, 2, 2, 2, 2, 2, 2, 2, 2, 2, 2, 2, 2, 2, 2, 2, 2, 3, 3, 3, 3, 3, 3, 3, 3, 3, 3, 3, 3, 3, 3, 3, 3, 3, 3, 3, 3, 3, 3, 3, 3, 3, 3, 3, 3, 3, 3, 3, 3, 3, 3, 3, 3, 3, 3, 3, 3, 3, 3, 3, 3, 3, 3, 3, 3, 3, 3, 3, 3, 3, 3, 3, 3, 3, 3, 3, 3, 3, 4, 4, 4, 4, 4, 4, 4, 4, 4, 4, 4, 4, 4, 4, 4, 4, 4, 4, 4, 4, 4, 4, 4, 4, 4, 4, 4, 4, 4, 4, 4, 4, 4, 4, 4, 4, 4, 4, 4, 4, 4, 4, 4, 4, 4, 4, 4, 4, 4, 4, 4, 4, 4, 4, 4, 4, 4, 4, 4, 4, 4, 4, 4, 4, 4, 4, 4, 4, 4, 4, 4, 4, 4, 4, 4, 4, 4, 4, 4, 4, 4, 4, 4, 4, 4, 4, 4, 4, 4, 4, 5, 5, 5, 5, 5, 5, 5, 5, 5, 5, 5, 5, 5, 5, 5, 5, 5, 5, 5, 5, 5, 5, 5, 5, 5, 5, 5, 5, 5, 5, 5, 5, 5, 5, 5, 5, 5, 5, 5, 5, 5, 5, 5, 5, 5, 5, 5, 5, 5, 5, 5, 5, 5, 5, 5, 5, 5, 5, 5, 5, 5, 5, 5, 5, 5, 5, 5, 5, 5, 5, 5, 5, 5, 5, 5, 5, 5, 5, 5, 5, 5, 5, 5, 5, 5, 5, 5, 5, 6, 6, 6, 6, 6, 6, 6, 6, 6, 6, 6, 6, 6, 6, 6, 6, 6, 6, 6, 6, 6, 6, 6, 6, 6, 6, 6, 6, 6, 6, 6, 6, 6, 6, 6, 6, 6, 6, 6, 6, 6, 6, 6, 6, 6, 6, 6, 6, 6, 6, 6, 6, 6, 6, 6, 6, 6, 6, 6, 6, 6, 6, 6, 6, 6, 6, 6, 6, 6, 6, 6, 6, 6, 6, 6, 6, 6, 6, 6, 6, 6, 6, 6, 6, 6, 6, 6, 6, 6, 6, 6, 6, 6, 6, 6, 6, 6, 6, 6, 6, 7, 7, 7, 7, 7, 7, 7, 7, 7, 7, 7, 7, 7, 7, 7, 7, 7, 7, 7, 7, 7, 7, 7, 7, 7, 7, 7, 7, 7, 7, 7, 7, 7, 7, 7, 7, 7, 7, 7, 7, 7, 7, 7, 7, 7, 7, 7, 7, 7, 7, 7, 7, 7, 7, 7, 7, 7, 7, 7, 7, 7, 7, 7, 7, 7, 7, 7, 7, 7, 7, 7, 7, 7, 7, 7, 7, 7, 7, 7, 7, 7, 7, 7, 7, 7, 7, 7, 7, 7, 8, 8, 8, 8, 8, 8, 8, 8, 8, 8, 8, 8, 8, 8, 8, 8, 8, 8, 8, 8, 8, 8, 8, 8, 8, 8, 8, 8, 8, 8, 8, 8, 8, 8, 8, 8, 8, 8, 8, 8, 8, 8, 8, 8, 8, 8, 8, 8, 8, 8, 8, 8, 8, 8, 8, 9, 9, 9, 9, 9, 9, 9, 9, 9, 9, 9, 9, 9, 9, 9, 9, 9, 9, 9, 9, 9, 9, 9, 9, 9, 9, 9, 9, 9, 9, 9, 9, 9, 9, 9, 9, 9, 9, 9, 9, 9, 9, 9, 9, 9, 9, 9, 9, 9, 9, 9, 9, 9, 9, 9, 9, 9, 9, 9, 9, 9, 9, 9, 9, 9, 9, 9, 9, 9, 9, 9, 9, 9, 9, 9, 9, 9, 9, 9, 9, 9, 9, 9, 9, 9, 9, 9, 9, 9, 9, 10, 10, 10, 10, 10, 10, 10, 10, 10, 10, 10, 10, 10, 10, 10, 10, 10, 10, 10, 10, 10, 10, 10, 10, 10, 10, 10, 10, 10, 10, 10, 10, 10, 10, 10, 10, 10, 10, 10, 10, 10, 10, 10, 10, 10, 10, 10, 10, 10, 10, 10, 10, 10, 10, 10, 10, 10, 10, 10, 10, 10, 10, 10, 10, 10, 10, 10, 10, 10, 10, 10, 10, 10, 10, 10, 10, 10, 10, 10, 10, 10, 10, 10, 10]\n",
      "Números de imagen: [1, 2, 4, 5, 6, 7, 8, 9, 10, 11, 12, 13, 14, 15, 17, 18, 19, 20, 21, 22, 23, 24, 25, 26, 27, 28, 29, 30, 31, 32, 33, 34, 35, 36, 37, 38, 39, 40, 41, 42, 43, 44, 45, 46, 47, 48, 49, 50, 51, 52, 53, 54, 55, 56, 57, 58, 59, 60, 61, 62, 63, 64, 65, 66, 67, 68, 69, 70, 71, 72, 73, 74, 75, 76, 77, 78, 79, 82, 83, 84, 85, 86, 3, 4, 8, 15, 16, 17, 20, 21, 23, 24, 26, 27, 28, 30, 31, 33, 34, 37, 39, 40, 41, 42, 44, 46, 50, 52, 54, 55, 57, 58, 60, 61, 63, 64, 70, 71, 72, 73, 74, 76, 78, 81, 82, 85, 87, 88, 91, 92, 95, 96, 98, 101, 104, 105, 110, 111, 112, 115, 117, 119, 120, 121, 125, 128, 133, 135, 136, 138, 139, 141, 142, 143, 144, 145, 146, 147, 151, 153, 154, 155, 159, 160, 161, 164, 167, 168, 169, 171, 174, 175, 176, 181, 186, 1, 2, 3, 4, 5, 6, 7, 8, 9, 10, 11, 12, 13, 14, 15, 16, 17, 18, 20, 21, 22, 23, 24, 25, 26, 27, 28, 29, 30, 31, 32, 33, 34, 35, 36, 37, 38, 39, 40, 41, 42, 43, 44, 45, 46, 47, 48, 49, 50, 51, 52, 53, 54, 55, 56, 57, 58, 59, 60, 61, 62, 1, 2, 3, 9, 10, 13, 15, 17, 18, 19, 22, 24, 30, 31, 33, 34, 35, 36, 37, 38, 42, 44, 45, 46, 47, 48, 49, 51, 52, 55, 56, 57, 58, 61, 62, 64, 65, 66, 68, 69, 70, 71, 73, 74, 78, 82, 84, 87, 88, 89, 95, 98, 99, 102, 104, 105, 110, 111, 113, 114, 117, 119, 120, 121, 122, 124, 127, 128, 130, 133, 134, 136, 138, 141, 142, 143, 144, 145, 146, 149, 152, 155, 157, 158, 159, 161, 164, 168, 169, 170, 1, 2, 3, 4, 5, 6, 7, 8, 9, 10, 11, 12, 13, 14, 15, 16, 18, 19, 20, 21, 22, 23, 24, 25, 26, 27, 28, 29, 30, 31, 32, 34, 35, 36, 37, 38, 39, 40, 41, 42, 43, 44, 45, 46, 47, 48, 49, 50, 51, 52, 54, 55, 56, 57, 58, 59, 60, 61, 62, 63, 64, 65, 66, 67, 68, 69, 70, 71, 72, 73, 74, 75, 76, 77, 78, 79, 80, 81, 82, 83, 84, 85, 86, 87, 88, 89, 90, 91, 7, 9, 21, 23, 25, 26, 29, 30, 34, 36, 37, 38, 39, 41, 43, 45, 46, 47, 48, 49, 50, 54, 56, 59, 63, 72, 74, 77, 80, 84, 86, 87, 88, 91, 92, 93, 94, 97, 98, 100, 105, 106, 107, 108, 113, 115, 117, 118, 120, 123, 125, 126, 127, 128, 129, 131, 136, 138, 139, 142, 145, 146, 147, 150, 151, 152, 153, 154, 157, 159, 160, 163, 164, 166, 171, 172, 175, 177, 179, 180, 183, 185, 186, 188, 193, 194, 195, 197, 198, 199, 200, 204, 206, 209, 212, 214, 217, 218, 224, 228, 1, 3, 4, 5, 6, 7, 8, 10, 11, 12, 14, 16, 17, 19, 20, 22, 24, 25, 26, 27, 29, 30, 32, 33, 34, 36, 37, 38, 39, 43, 44, 45, 46, 47, 50, 52, 53, 55, 56, 57, 59, 60, 61, 62, 63, 64, 65, 66, 68, 69, 72, 74, 75, 76, 78, 79, 80, 81, 82, 83, 84, 85, 86, 88, 92, 93, 94, 96, 97, 98, 99, 100, 101, 102, 103, 104, 105, 106, 107, 108, 110, 111, 112, 114, 115, 117, 121, 123, 124, 1, 2, 3, 4, 5, 6, 7, 8, 9, 10, 12, 13, 14, 16, 17, 18, 19, 20, 21, 22, 24, 25, 26, 27, 28, 29, 30, 31, 32, 33, 34, 35, 36, 37, 38, 39, 40, 41, 42, 43, 44, 45, 46, 47, 48, 49, 50, 51, 52, 53, 54, 55, 57, 58, 59, 1, 6, 10, 11, 13, 14, 22, 24, 27, 28, 32, 33, 38, 39, 41, 44, 49, 53, 54, 60, 61, 62, 65, 67, 69, 76, 78, 84, 86, 87, 88, 92, 96, 97, 98, 99, 100, 103, 105, 107, 109, 110, 114, 115, 116, 117, 118, 119, 122, 123, 125, 126, 127, 129, 130, 132, 134, 135, 136, 140, 143, 144, 145, 146, 147, 152, 156, 157, 160, 162, 165, 175, 176, 177, 178, 180, 182, 184, 188, 191, 201, 203, 204, 212, 215, 219, 221, 223, 225, 226, 3, 5, 6, 8, 9, 12, 16, 18, 19, 20, 22, 23, 24, 25, 28, 29, 30, 31, 34, 36, 37, 38, 39, 41, 42, 44, 45, 47, 50, 51, 54, 58, 67, 72, 77, 79, 82, 86, 89, 91, 92, 93, 96, 97, 99, 107, 110, 111, 113, 115, 119, 120, 122, 123, 124, 126, 128, 130, 132, 133, 134, 136, 137, 143, 145, 147, 148, 149, 150, 151, 153, 154, 155, 157, 160, 162, 163, 165, 166, 171, 172, 173, 175, 176]\n",
      "832\n",
      "832\n"
     ]
    }
   ],
   "source": [
    "def Get_Feacture(picture, cortes, target_size=(64, 768)):\n",
    "    # Resize the image to a common size (e.g., 64x64)\n",
    "    picture = resize_image(picture, target_size)\n",
    "    \n",
    "    LL = picture\n",
    "    for i in range(cortes):\n",
    "        LL, (LH, HL, HH) = pywt.dwt2(LL, 'haar')\n",
    "    return LL.flatten()\n",
    "\n",
    "# Function to resize an image using skimage\n",
    "def resize_image(image, target_size):\n",
    "    return resize(image, target_size, mode='constant', anti_aliasing=True)\n",
    "\n",
    "\n",
    "numeros_de_especie = []\n",
    "numeros_de_imagen = []\n",
    "\n",
    "def process_images(path):\n",
    "    files_names = os.listdir(path)\n",
    "    vector_X = []\n",
    "    vector_y = []    \n",
    "\n",
    "    for filename in files_names:\n",
    "        match = re.match(r'(\\d{3})(\\d{4})', filename)\n",
    "        if match:\n",
    "            esp  = match.group(1)\n",
    "            num = match.group(2)\n",
    "            especie = int(esp)\n",
    "            imagen = int(num)\n",
    "            image = imread(os.path.join(path, filename))\n",
    "            feature = Get_Feacture(image, 2)\n",
    "            vector_X.append(feature)\n",
    "            vector_y.append(especie)\n",
    "            \n",
    "            numeros_de_especie.append(especie)\n",
    "            numeros_de_imagen.append(imagen)\n",
    "    return np.array(vector_X), np.array(vector_y)\n",
    "\n",
    "\n",
    "\n",
    "path = './images'\n",
    "vector_X,vector_y = process_images(path)\n",
    "\n",
    "print(\"Números de especie:\", numeros_de_especie)\n",
    "print(\"Números de imagen:\", numeros_de_imagen)\n",
    "\n",
    "print(len(vector_y))\n",
    "print(len(vector_X))\n",
    "\n",
    "random.shuffle(vector_X)\n"
   ]
  },
  {
   "cell_type": "code",
   "execution_count": 6,
   "metadata": {},
   "outputs": [
    {
     "name": "stderr",
     "output_type": "stream",
     "text": [
      "d:\\Proyectos_2023\\Machine_Learning\\Proyecto_1\\venv\\lib\\site-packages\\sklearn\\linear_model\\_logistic.py:460: ConvergenceWarning: lbfgs failed to converge (status=1):\n",
      "STOP: TOTAL NO. of ITERATIONS REACHED LIMIT.\n",
      "\n",
      "Increase the number of iterations (max_iter) or scale the data as shown in:\n",
      "    https://scikit-learn.org/stable/modules/preprocessing.html\n",
      "Please also refer to the documentation for alternative solver options:\n",
      "    https://scikit-learn.org/stable/modules/linear_model.html#logistic-regression\n",
      "  n_iter_i = _check_optimize_result(\n"
     ]
    }
   ],
   "source": [
    "################################################\n",
    "\n",
    "from sklearn.model_selection import train_test_split\n",
    "\n",
    "# Aleatorización inicial de los datos originales\n",
    "random.seed(42)  # Establece una semilla para la aleatorización (ajusta según sea necesario)\n",
    "shuffled_indices = list(range(len(vector_X)))\n",
    "random.shuffle(shuffled_indices)\n",
    "\n",
    "# Aplicar la aleatorización a vector_X y vector_y\n",
    "vector_X = vector_X[shuffled_indices]\n",
    "vector_y = vector_y[shuffled_indices]\n",
    "\n",
    "# División de datos en entrenamiento, validación y prueba\n",
    "X_train, X_rest, y_train, y_rest = train_test_split(vector_X, vector_y, test_size=0.3, random_state=42)\n",
    "X_valid, X_test, y_valid, y_test = train_test_split(X_rest, y_rest, test_size=0.5, random_state=42)\n",
    "\n",
    "# Entrenar y evaluar Regresión Logística\n",
    "lr = LogisticRegression(max_iter = 1000)\n",
    "lr.fit(X_train, y_train)\n",
    "lr_pred = lr.predict(X_test)\n",
    "lr_accuracy = accuracy_score(y_test, lr_pred)\n",
    "\n",
    "# Entrenar y evaluar SVM\n",
    "svm = SVC()\n",
    "svm.fit(X_train, y_train)\n",
    "svm_pred = svm.predict(X_test)\n",
    "svm_accuracy = accuracy_score(y_test, svm_pred)\n",
    "\n",
    "# Entrenar y evaluar KNN\n",
    "knn = KNeighborsClassifier()\n",
    "knn.fit(X_train, y_train)\n",
    "knn_pred = knn.predict(X_test)\n",
    "knn_accuracy = accuracy_score(y_test, knn_pred)\n",
    "\n",
    "# Entrenar y evaluar Árboles de decisión\n",
    "tree = DecisionTreeClassifier()\n",
    "tree.fit(X_train, y_train)\n",
    "tree_pred = tree.predict(X_test)\n",
    "tree_accuracy = accuracy_score(y_test, tree_pred)\n",
    "\n",
    "# Imprimir las precisiones de los modelos\n",
    "print(\"Precisión de Regresión Logística:\", lr_accuracy)\n",
    "print(\"Precisión de SVM:\", svm_accuracy)\n",
    "print(\"Precisión de KNN:\", knn_accuracy)\n",
    "print(\"Precisión de Árboles de decisión:\", tree_accuracy)"
   ]
  },
  {
   "cell_type": "code",
   "execution_count": 4,
   "metadata": {},
   "outputs": [],
   "source": [
    "# Lista de modelos\n",
    "models = [lr, svm, knn, tree]\n",
    "\n",
    "# Realizar K-fold cross-validation para cada modelo\n",
    "num_folds = 5  # Puedes ajustar el número de pliegues K según tus necesidades\n",
    "\n",
    "for model in models:\n",
    "    # Aplicar K-fold cross-validation\n",
    "    scores = cross_val_score(model, vector_X, vector_y, cv=num_folds, scoring='accuracy')\n",
    "    \n",
    "    # Imprimir los resultados de la validación cruzada para cada modelo\n",
    "    print(\"Modelo:\", model.__class__.__name__)\n",
    "    print(\"Precisión media:\", scores.mean())\n",
    "    print(\"Desviación estándar de la precisión:\", scores.std())\n",
    "    print(\"--------------------------------------------------\")\n",
    "\n"
   ]
  },
  {
   "cell_type": "markdown",
   "metadata": {},
   "source": [
    "Regresion Logistica"
   ]
  },
  {
   "cell_type": "code",
   "execution_count": 5,
   "metadata": {},
   "outputs": [],
   "source": [
    "###"
   ]
  }
 ],
 "metadata": {
  "kernelspec": {
   "display_name": "venv",
   "language": "python",
   "name": "python3"
  },
  "language_info": {
   "codemirror_mode": {
    "name": "ipython",
    "version": 3
   },
   "file_extension": ".py",
   "mimetype": "text/x-python",
   "name": "python",
   "nbconvert_exporter": "python",
   "pygments_lexer": "ipython3",
   "version": "3.10.2"
  },
  "orig_nbformat": 4
 },
 "nbformat": 4,
 "nbformat_minor": 2
}
