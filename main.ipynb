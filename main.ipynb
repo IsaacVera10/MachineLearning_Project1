{
 "cells": [
  {
   "cell_type": "code",
   "execution_count": 18,
   "metadata": {},
   "outputs": [],
   "source": [
    "from  skimage.io import imread, imshow\n",
    "import random\n",
    "import os\n",
    "import pywt\n",
    "import pywt.data\n",
    "from skimage.transform import resize  # Correct import statement\n",
    "import matplotlib.pyplot as plt\n",
    "import numpy as np\n",
    "# Import train_test_split function\n",
    "from sklearn.model_selection import train_test_split\n",
    "\n",
    "from sklearn import svm"
   ]
  },
  {
   "cell_type": "code",
   "execution_count": 19,
   "metadata": {},
   "outputs": [
    {
     "name": "stdout",
     "output_type": "stream",
     "text": [
      "832\n",
      "832\n"
     ]
    }
   ],
   "source": [
    "path = './images'\n",
    "\n",
    "def Get_Feacture(picture, cortes, target_size=(1024, 768)):\n",
    "    # Resize the image to a common size (e.g., 64x64)\n",
    "    picture = resize_image(picture, target_size)\n",
    "    \n",
    "    LL = picture\n",
    "    for i in range(cortes):\n",
    "        LL, (LH, HL, HH) = pywt.dwt2(LL, 'haar')\n",
    "    return LL.flatten()\n",
    "\n",
    "# Function to resize an image using skimage\n",
    "def resize_image(image, target_size):\n",
    "    return resize(image, target_size, mode='constant', anti_aliasing=True)\n",
    "\n",
    "\n",
    "files_names = os.listdir(path)\n",
    "\n",
    "\n",
    "# Function to process all images in the directory\n",
    "def Function(file_names, path):\n",
    "    vector = []\n",
    "    for image_name in file_names:\n",
    "        image = imread(os.path.join(path, image_name))\n",
    "        vector.append(Get_Feacture(image, 2))\n",
    "    return vector\n",
    "\n",
    "vector_X = Function(files_names,path)#todo -1 en y\n",
    "print(len(vector_X))\n",
    "\n",
    "if(len(vector_X)%2 != 0):#impar\n",
    "  vector_y = np.repeat([-1, 1], [int(len(vector_X)/2), int(len(vector_X)/2)+1 ])\n",
    "else:\n",
    "  vector_y = np.repeat([-1, 1], [len(vector_X)/2, len(vector_X)/2 ])\n",
    "\n",
    "print(len(vector_y))\n",
    "vector_X = np.array(vector_X)\n",
    "random.shuffle(vector_X)"
   ]
  },
  {
   "cell_type": "code",
   "execution_count": 20,
   "metadata": {},
   "outputs": [
    {
     "name": "stdout",
     "output_type": "stream",
     "text": [
      "Accuracy: 0.632\n"
     ]
    }
   ],
   "source": [
    "################################################\n",
    "\n",
    "#TRAIN\n",
    "from sklearn.model_selection import train_test_split\n",
    "# Split dataset into training set and test set\n",
    "X_train, X_test, y_train, y_test = train_test_split(vector_X, vector_y, test_size=0.3, random_state=109) # 70% training and 30% test\n",
    "\n",
    "\n",
    "#Create a svm Classifier\n",
    "clf = svm.SVC(kernel='linear') # Linear Kernel\n",
    "\n",
    "#Train the model using the training sets\n",
    "clf.fit(X_train, y_train)\n",
    "\n",
    "#Predict the response for test dataset\n",
    "y_pred = clf.predict(X_test)\n",
    "\n",
    "#Import scikit-learn metrics module for accuracy calculation\n",
    "from sklearn import metrics\n",
    "\n",
    "# Model Accuracy: how often is the classifier correct?\n",
    "print(\"Accuracy:\", metrics.accuracy_score(y_test, y_pred))"
   ]
  }
 ],
 "metadata": {
  "kernelspec": {
   "display_name": "venv",
   "language": "python",
   "name": "python3"
  },
  "language_info": {
   "codemirror_mode": {
    "name": "ipython",
    "version": 3
   },
   "file_extension": ".py",
   "mimetype": "text/x-python",
   "name": "python",
   "nbconvert_exporter": "python",
   "pygments_lexer": "ipython3",
   "version": "3.10.2"
  },
  "orig_nbformat": 4
 },
 "nbformat": 4,
 "nbformat_minor": 2
}
